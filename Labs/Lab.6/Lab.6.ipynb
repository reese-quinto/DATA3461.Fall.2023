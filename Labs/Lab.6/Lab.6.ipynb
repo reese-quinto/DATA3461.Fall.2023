{
 "cells": [
  {
   "cell_type": "markdown",
   "id": "49cf8381",
   "metadata": {},
   "source": [
    "# Lab 6\n",
    "\n",
    "Scikit learn provides a large variety of algorithms for some common Machine Learning tasks, such as:\n",
    "\n",
    "* Classification\n",
    "* Regression\n",
    "* Clustering\n",
    "* Feature Selection\n",
    "* Anomaly Detection\n",
    "\n",
    "It also provides some datasets that you can use to test these algorithms:\n",
    "\n",
    "* Classification Datasets:\n",
    "    * Breast cancer wisconsin\n",
    "    * Iris plants (3-classes)\n",
    "    * Optical recognition of handwritten digits (10-classes)\n",
    "    * Wine (n-classes)\n",
    "\n",
    "* Regression Datasets: \n",
    "    * Boston house prices \n",
    "    * Diabetes\n",
    "    * Linnerrud (multiple regression)\n",
    "    * California Housing\n",
    "\n",
    "* Image: \n",
    "    * The Olivetti faces\n",
    "    * The Labeled Faces in the Wild face recognition\n",
    "    * Forest covertypes\n",
    "\n",
    "* NLP:\n",
    "    * News group\n",
    "    * Reuters Corpus Volume I \n",
    "\n",
    "* Other:\n",
    "    * Kddcup 99- Intrusion Detection"
   ]
  },
  {
   "cell_type": "markdown",
   "id": "d4e3b6e9",
   "metadata": {},
   "source": [
    "## Exercises\n",
    "\n",
    "1. Use the full [Kddcup](http://kdd.ics.uci.edu/databases/kddcup99/kddcup99.html) dataset to compare classification performance of 3 different classifiers. \n",
    "    * Separate the data into train, validation, and test. \n",
    "    * Use accuracy as the metric for assessing performance. \n",
    "    * For each classifier, identify the hyperparameters. Perform optimization over at least 2 hyperparameters.   \n",
    "    * Compare the performance of the optimal configuration of the classifiers.\n",
    "\n",
    "2. Pick the best algorithm in question 1. Create an ensemble of at least 25 models, and use them for the classification task. Identify the top and bottom 10% of the data in terms of uncertainty of the decision.\n",
    "\n",
    "3. Use 2 different feature selection algorithm to identify the 10 most important features for the task in question 1. Retrain classifiers in question 1 with just this subset of features and compare performance.\n",
    "\n",
    "4. Use the same data, removing the labels, and compare performance of 3 different clustering algorithms. Can you find clusters for each of the classes in question 1? \n",
    "\n",
    "5. Can you identify any clusters within the top/botton 10% identified in 2. What are their characteristics?\n",
    "\n",
    "6. Use the \"SA\" dataset to compare the performance of 3 different anomaly detection algorithms.\n",
    "\n",
    "7. Create a subsample of 250 datapoints, redo question 6, using Leave-one-out as the method of evaluation.\n",
    "\n",
    "8. Use the feature selection algorithm to identify the 5 most important features for the task in question 6, for each algorithm. Does the anomaly detection improve using less features?"
   ]
  },
  {
   "cell_type": "markdown",
   "id": "ef18662c",
   "metadata": {},
   "source": [
    "## Quick look at the data"
   ]
  },
  {
   "cell_type": "code",
   "execution_count": 1,
   "id": "9f1c631a",
   "metadata": {},
   "outputs": [
    {
     "name": "stderr",
     "output_type": "stream",
     "text": [
      "/usr/lib/python3/dist-packages/scipy/__init__.py:146: UserWarning: A NumPy version >=1.17.3 and <1.25.0 is required for this version of SciPy (detected version 1.26.2\n",
      "  warnings.warn(f\"A NumPy version >={np_minversion} and <{np_maxversion}\"\n"
     ]
    }
   ],
   "source": [
    "from sklearn.datasets import fetch_kddcup99\n",
    "D=fetch_kddcup99()"
   ]
  },
  {
   "cell_type": "code",
   "execution_count": 2,
   "id": "7d561eff",
   "metadata": {},
   "outputs": [
    {
     "data": {
      "text/plain": [
       "['DESCR', 'data', 'feature_names', 'frame', 'target', 'target_names']"
      ]
     },
     "execution_count": 2,
     "metadata": {},
     "output_type": "execute_result"
    }
   ],
   "source": [
    "dir(D)"
   ]
  },
  {
   "cell_type": "code",
   "execution_count": 32,
   "id": "5202d565",
   "metadata": {},
   "outputs": [
    {
     "data": {
      "text/plain": [
       "sklearn.utils._bunch.Bunch"
      ]
     },
     "execution_count": 32,
     "metadata": {},
     "output_type": "execute_result"
    }
   ],
   "source": [
    "type(D)"
   ]
  },
  {
   "cell_type": "code",
   "execution_count": 3,
   "id": "875d2d16",
   "metadata": {
    "scrolled": true
   },
   "outputs": [
    {
     "name": "stdout",
     "output_type": "stream",
     "text": [
      ".. _kddcup99_dataset:\n",
      "\n",
      "Kddcup 99 dataset\n",
      "-----------------\n",
      "\n",
      "The KDD Cup '99 dataset was created by processing the tcpdump portions\n",
      "of the 1998 DARPA Intrusion Detection System (IDS) Evaluation dataset,\n",
      "created by MIT Lincoln Lab [2]_. The artificial data (described on the `dataset's\n",
      "homepage <https://kdd.ics.uci.edu/databases/kddcup99/kddcup99.html>`_) was\n",
      "generated using a closed network and hand-injected attacks to produce a\n",
      "large number of different types of attack with normal activity in the\n",
      "background. As the initial goal was to produce a large training set for\n",
      "supervised learning algorithms, there is a large proportion (80.1%) of\n",
      "abnormal data which is unrealistic in real world, and inappropriate for\n",
      "unsupervised anomaly detection which aims at detecting 'abnormal' data, i.e.:\n",
      "\n",
      "* qualitatively different from normal data\n",
      "* in large minority among the observations.\n",
      "\n",
      "We thus transform the KDD Data set into two different data sets: SA and SF.\n",
      "\n",
      "* SA is obtained by simply selecting all the normal data, and a small\n",
      "  proportion of abnormal data to gives an anomaly proportion of 1%.\n",
      "\n",
      "* SF is obtained as in [3]_\n",
      "  by simply picking up the data whose attribute logged_in is positive, thus\n",
      "  focusing on the intrusion attack, which gives a proportion of 0.3% of\n",
      "  attack.\n",
      "\n",
      "* http and smtp are two subsets of SF corresponding with third feature\n",
      "  equal to 'http' (resp. to 'smtp').\n",
      "\n",
      "General KDD structure :\n",
      "\n",
      "    ================      ==========================================\n",
      "    Samples total         4898431\n",
      "    Dimensionality        41\n",
      "    Features              discrete (int) or continuous (float)\n",
      "    Targets               str, 'normal.' or name of the anomaly type\n",
      "    ================      ==========================================\n",
      "\n",
      "    SA structure :\n",
      "\n",
      "    ================      ==========================================\n",
      "    Samples total         976158\n",
      "    Dimensionality        41\n",
      "    Features              discrete (int) or continuous (float)\n",
      "    Targets               str, 'normal.' or name of the anomaly type\n",
      "    ================      ==========================================\n",
      "\n",
      "    SF structure :\n",
      "\n",
      "    ================      ==========================================\n",
      "    Samples total         699691\n",
      "    Dimensionality        4\n",
      "    Features              discrete (int) or continuous (float)\n",
      "    Targets               str, 'normal.' or name of the anomaly type\n",
      "    ================      ==========================================\n",
      "\n",
      "    http structure :\n",
      "\n",
      "    ================      ==========================================\n",
      "    Samples total         619052\n",
      "    Dimensionality        3\n",
      "    Features              discrete (int) or continuous (float)\n",
      "    Targets               str, 'normal.' or name of the anomaly type\n",
      "    ================      ==========================================\n",
      "\n",
      "    smtp structure :\n",
      "\n",
      "    ================      ==========================================\n",
      "    Samples total         95373\n",
      "    Dimensionality        3\n",
      "    Features              discrete (int) or continuous (float)\n",
      "    Targets               str, 'normal.' or name of the anomaly type\n",
      "    ================      ==========================================\n",
      "\n",
      ":func:`sklearn.datasets.fetch_kddcup99` will load the kddcup99 dataset; it\n",
      "returns a dictionary-like object with the feature matrix in the ``data`` member\n",
      "and the target values in ``target``. The \"as_frame\" optional argument converts\n",
      "``data`` into a pandas DataFrame and ``target`` into a pandas Series. The\n",
      "dataset will be downloaded from the web if necessary.\n",
      "\n",
      ".. topic:: References\n",
      "\n",
      "    .. [2] Analysis and Results of the 1999 DARPA Off-Line Intrusion\n",
      "           Detection Evaluation, Richard Lippmann, Joshua W. Haines,\n",
      "           David J. Fried, Jonathan Korba, Kumar Das.\n",
      "\n",
      "    .. [3] K. Yamanishi, J.-I. Takeuchi, G. Williams, and P. Milne. Online\n",
      "           unsupervised outlier detection using finite mixtures with\n",
      "           discounting learning algorithms. In Proceedings of the sixth\n",
      "           ACM SIGKDD international conference on Knowledge discovery\n",
      "           and data mining, pages 320-324. ACM Press, 2000.\n",
      "\n"
     ]
    }
   ],
   "source": [
    "print(D[\"DESCR\"])"
   ]
  },
  {
   "cell_type": "code",
   "execution_count": 5,
   "id": "4cef559d",
   "metadata": {},
   "outputs": [
    {
     "data": {
      "text/plain": [
       "array([b'back.', b'buffer_overflow.', b'ftp_write.', b'guess_passwd.',\n",
       "       b'imap.', b'ipsweep.', b'land.', b'loadmodule.', b'multihop.',\n",
       "       b'neptune.', b'nmap.', b'normal.', b'perl.', b'phf.', b'pod.',\n",
       "       b'portsweep.', b'rootkit.', b'satan.', b'smurf.', b'spy.',\n",
       "       b'teardrop.', b'warezclient.', b'warezmaster.'], dtype=object)"
      ]
     },
     "execution_count": 5,
     "metadata": {},
     "output_type": "execute_result"
    }
   ],
   "source": [
    "import numpy as np\n",
    "np.unique(D[\"target\"])"
   ]
  },
  {
   "cell_type": "code",
   "execution_count": 6,
   "id": "6ed0289b",
   "metadata": {},
   "outputs": [
    {
     "data": {
      "text/plain": [
       "23"
      ]
     },
     "execution_count": 6,
     "metadata": {},
     "output_type": "execute_result"
    }
   ],
   "source": [
    "len(np.unique(D[\"target\"]))"
   ]
  },
  {
   "cell_type": "code",
   "execution_count": 7,
   "id": "aff034ea",
   "metadata": {
    "scrolled": true
   },
   "outputs": [
    {
     "data": {
      "text/plain": [
       "['duration',\n",
       " 'protocol_type',\n",
       " 'service',\n",
       " 'flag',\n",
       " 'src_bytes',\n",
       " 'dst_bytes',\n",
       " 'land',\n",
       " 'wrong_fragment',\n",
       " 'urgent',\n",
       " 'hot',\n",
       " 'num_failed_logins',\n",
       " 'logged_in',\n",
       " 'num_compromised',\n",
       " 'root_shell',\n",
       " 'su_attempted',\n",
       " 'num_root',\n",
       " 'num_file_creations',\n",
       " 'num_shells',\n",
       " 'num_access_files',\n",
       " 'num_outbound_cmds',\n",
       " 'is_host_login',\n",
       " 'is_guest_login',\n",
       " 'count',\n",
       " 'srv_count',\n",
       " 'serror_rate',\n",
       " 'srv_serror_rate',\n",
       " 'rerror_rate',\n",
       " 'srv_rerror_rate',\n",
       " 'same_srv_rate',\n",
       " 'diff_srv_rate',\n",
       " 'srv_diff_host_rate',\n",
       " 'dst_host_count',\n",
       " 'dst_host_srv_count',\n",
       " 'dst_host_same_srv_rate',\n",
       " 'dst_host_diff_srv_rate',\n",
       " 'dst_host_same_src_port_rate',\n",
       " 'dst_host_srv_diff_host_rate',\n",
       " 'dst_host_serror_rate',\n",
       " 'dst_host_srv_serror_rate',\n",
       " 'dst_host_rerror_rate',\n",
       " 'dst_host_srv_rerror_rate']"
      ]
     },
     "execution_count": 7,
     "metadata": {},
     "output_type": "execute_result"
    }
   ],
   "source": [
    "D[\"feature_names\"]"
   ]
  },
  {
   "cell_type": "markdown",
   "id": "44acbc0d",
   "metadata": {},
   "source": [
    "## Part 1"
   ]
  },
  {
   "cell_type": "markdown",
   "id": "0eaa50b1",
   "metadata": {},
   "source": [
    "### a) Separate the data into train, validation, and test."
   ]
  },
  {
   "cell_type": "code",
   "execution_count": 34,
   "id": "cfd97ecd",
   "metadata": {},
   "outputs": [
    {
     "data": {
      "text/plain": [
       "'\\nUse the full Kddcup dataset to compare classification performance of 3 different classifiers.\\n\\nSeparate the data into train, validation, and test.\\nUse accuracy as the metric for assessing performance.\\nFor each classifier, identify the hyperparameters. Perform optimization over at least 2 hyperparameters.\\nCompare the performance of the optimal configuration of the classifiers.\\n'"
      ]
     },
     "execution_count": 34,
     "metadata": {},
     "output_type": "execute_result"
    }
   ],
   "source": [
    "from sklearn.model_selection import train_test_split, GridSearchCV\n",
    "from sklearn.metrics import accuracy_score\n",
    "from sklearn.ensemble import AdaBoostClassifier, RandomForestClassifier\n",
    "from sklearn.gaussian_process import GaussianProcessClassifier\n",
    "from sklearn.gaussian_process.kernels import RBF\n",
    "\n",
    "'''\n",
    "Use the full Kddcup dataset to compare classification performance of 3 different classifiers.\n",
    "\n",
    "Separate the data into train, validation, and test.\n",
    "Use accuracy as the metric for assessing performance.\n",
    "For each classifier, identify the hyperparameters. Perform optimization over at least 2 hyperparameters.\n",
    "Compare the performance of the optimal configuration of the classifiers.\n",
    "'''\n"
   ]
  },
  {
   "cell_type": "code",
   "execution_count": 13,
   "id": "758711cf",
   "metadata": {},
   "outputs": [
    {
     "name": "stdout",
     "output_type": "stream",
     "text": [
      "X_train & y_train shapes: X=(316172, 41), y=(316172,)\n",
      "X_val & y_val shapes:     X=(79044, 41), y=(79044,)\n",
      "X_test & y_test shapes:   X=(98805, 41), y=(98805,)\n"
     ]
    }
   ],
   "source": [
    "X = D.data\n",
    "y = D.target\n",
    "\n",
    "# Split the data into training (80%) and testing (20%) sets\n",
    "X_train, X_test, y_train, y_test = train_test_split(X, y, test_size=0.2)\n",
    "\n",
    "# Further split the previously made training data into training (80%) and validation (20%) sets\n",
    "X_train, X_val, y_train, y_val = train_test_split(X_train, y_train, test_size=0.2)\n",
    "\n",
    "# Print the shapes of the resulting sets\n",
    "print(\"X_train & y_train shapes: X={}, y={}\".format(X_train.shape, y_train.shape))\n",
    "print(\"X_val & y_val shapes:     X={}, y={}\".format(X_val.shape, y_val.shape))\n",
    "print(\"X_test & y_test shapes:   X={}, y={}\".format(X_test.shape, y_test.shape))"
   ]
  },
  {
   "cell_type": "code",
   "execution_count": 20,
   "id": "b82b264c",
   "metadata": {},
   "outputs": [
    {
     "data": {
      "text/plain": [
       "array([0, b'icmp', b'ecr_i', b'SF', 1032, 0, 0, 0, 0, 0, 0, 0, 0, 0, 0, 0,\n",
       "       0, 0, 0, 0, 0, 0, 511, 511, 0.0, 0.0, 0.0, 0.0, 1.0, 0.0, 0.0, 255,\n",
       "       255, 1.0, 0.0, 1.0, 0.0, 0.0, 0.0, 0.0, 0.0], dtype=object)"
      ]
     },
     "execution_count": 20,
     "metadata": {},
     "output_type": "execute_result"
    }
   ],
   "source": [
    "X_train[1]"
   ]
  },
  {
   "cell_type": "code",
   "execution_count": 21,
   "id": "60bdd483",
   "metadata": {},
   "outputs": [
    {
     "data": {
      "text/plain": [
       "array([b'neptune.', b'smurf.', b'smurf.', b'smurf.', b'normal.'],\n",
       "      dtype=object)"
      ]
     },
     "execution_count": 21,
     "metadata": {},
     "output_type": "execute_result"
    }
   ],
   "source": [
    "y_train[:5]"
   ]
  },
  {
   "cell_type": "markdown",
   "id": "f3d8ce50",
   "metadata": {},
   "source": [
    "### b) Set up classifiers using accuracy as the metric for assessing performance.\n",
    "Classifiers are AdaBoost, RandomForest, and GaussianProcess."
   ]
  },
  {
   "cell_type": "code",
   "execution_count": 27,
   "id": "bd5ef018",
   "metadata": {},
   "outputs": [],
   "source": [
    "\n",
    "# Define classifiers\n",
    "adaboost_classifier = AdaBoostClassifier()\n",
    "random_forest_classifier = RandomForestClassifier()\n",
    "gaussian_process_classifier = GaussianProcessClassifier()\n"
   ]
  },
  {
   "cell_type": "code",
   "execution_count": 30,
   "id": "1cb03fa9",
   "metadata": {},
   "outputs": [
    {
     "name": "stdout",
     "output_type": "stream",
     "text": [
      "{'algorithm': 'SAMME.R', 'base_estimator': 'deprecated', 'estimator': None, 'learning_rate': 1.0, 'n_estimators': 50, 'random_state': None}\n",
      "{'bootstrap': True, 'ccp_alpha': 0.0, 'class_weight': None, 'criterion': 'gini', 'max_depth': None, 'max_features': 'sqrt', 'max_leaf_nodes': None, 'max_samples': None, 'min_impurity_decrease': 0.0, 'min_samples_leaf': 1, 'min_samples_split': 2, 'min_weight_fraction_leaf': 0.0, 'n_estimators': 100, 'n_jobs': None, 'oob_score': False, 'random_state': None, 'verbose': 0, 'warm_start': False}\n",
      "{'copy_X_train': True, 'kernel': None, 'max_iter_predict': 100, 'multi_class': 'one_vs_rest', 'n_jobs': None, 'n_restarts_optimizer': 0, 'optimizer': 'fmin_l_bfgs_b', 'random_state': None, 'warm_start': False}\n"
     ]
    }
   ],
   "source": [
    "# Get hyper parameters\n",
    "\n",
    "# AdaBoost hyperperameters\n",
    "adaboost_params = adaboost_classifier.get_params()\n",
    "print(adaboost_params)\n",
    "\n",
    "# Random Forest hyperparameters\n",
    "rf_params = random_forest_classifier.get_params()\n",
    "print(rf_params)\n",
    "\n",
    "# Gaussian Process hyperparameters\n",
    "gauss_params = gaussian_process_classifier.get_params()\n",
    "print(gauss_params)"
   ]
  },
  {
   "cell_type": "code",
   "execution_count": 31,
   "id": "0ba99f47",
   "metadata": {},
   "outputs": [
    {
     "data": {
      "text/plain": [
       "sklearn.utils._bunch.Bunch"
      ]
     },
     "execution_count": 31,
     "metadata": {},
     "output_type": "execute_result"
    }
   ],
   "source": [
    "# for adaboost optimize learning_rate, and n_estimators\n",
    "# for RandForest optimize n_estimators, and max_depth\n",
    "# for GaussProc optimize max_iter_predict, and multi_class\n",
    "\n",
    "# Define the hyperparameter grid\n",
    "adaboost_param_grid = {'n_estimators': [50, 100, 200],\n",
    "                       'learning_rate': [0.01, 0.1, 1.0]\n",
    "                      }\n",
    "rf_param_grid = {'n_estimators':[50, 100, 200], \n",
    "                 'max_depth': [None, 10, 20, 30]\n",
    "                }\n",
    "gauss_param_grid = {'max_iter_predict': [50, 100, 200], \n",
    "                    'multi_class':['one_vs_rest', 'one_vs_one']\n",
    "                   }\n",
    "\n",
    "# Define GridSearchCV object for each classifier. Scoring metric for all is accuracy.\n",
    "adaboost_grid_search = GridSearchCV(adaboost_classifier,\n",
    "                                   adaboost_param_grid,\n",
    "                                   scoring='accuracy',\n",
    "                                   cv=3)\n",
    "rf_grid_search = GridSearchCV(random_forest_classifier,\n",
    "                             rf_param_grid,\n",
    "                             scoring='accuracy',\n",
    "                             cv=3)\n",
    "gauss_grid_search = GridSearchCV(gaussian_process_classifier, \n",
    "                                 gauss_param_grid, \n",
    "                                 scoring='accuracy', \n",
    "                                 cv=3)"
   ]
  }
 ],
 "metadata": {
  "kernelspec": {
   "display_name": "Python 3 (ipykernel)",
   "language": "python",
   "name": "python3"
  },
  "language_info": {
   "codemirror_mode": {
    "name": "ipython",
    "version": 3
   },
   "file_extension": ".py",
   "mimetype": "text/x-python",
   "name": "python",
   "nbconvert_exporter": "python",
   "pygments_lexer": "ipython3",
   "version": "3.10.4"
  }
 },
 "nbformat": 4,
 "nbformat_minor": 5
}
