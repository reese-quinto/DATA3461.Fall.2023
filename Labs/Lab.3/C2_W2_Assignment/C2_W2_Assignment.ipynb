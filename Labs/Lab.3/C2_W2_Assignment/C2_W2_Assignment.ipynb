{
 "cells": [
  {
   "cell_type": "markdown",
   "metadata": {},
   "source": [
    "# Practice Lab: Neural Networks for Handwritten Digit Recognition, Multiclass \n",
    "\n",
    "In this exercise, you will use a neural network to recognize the hand-written digits 0-9.\n",
    "\n",
    "\n",
    "# Outline\n",
    "- [ 1 - Packages ](#1)\n",
    "- [ 2 - ReLU Activation](#2)\n",
    "- [ 3 - Softmax Function](#3)\n",
    "  - [ Exercise 1](#ex01)\n",
    "- [ 4 - Neural Networks](#4)\n",
    "  - [ 4.1 Problem Statement](#4.1)\n",
    "  - [ 4.2 Dataset](#4.2)\n",
    "  - [ 4.3 Model representation](#4.3)\n",
    "  - [ 4.4 Tensorflow Model Implementation](#4.4)\n",
    "  - [ 4.5 Softmax placement](#4.5)\n",
    "    - [ Exercise 2](#ex02)\n"
   ]
  },
  {
   "cell_type": "code",
   "execution_count": 1,
   "metadata": {
    "scrolled": true
   },
   "outputs": [
    {
     "name": "stdout",
     "output_type": "stream",
     "text": [
      "rm: cannot remove 'C2_W2_Assignment.tar': No such file or directory\n",
      "C2_W2_Assignment.ipynb\n",
      "autils.py\n",
      "data/\n",
      "data/X.npy\n",
      "data/y.npy\n",
      "deeplearning.mplstyle\n",
      "images/\n",
      "images/C2_W2_Assigment_NN.png\n",
      "images/C2_W2_BinaryVsMultiClass.png\n",
      "images/C2_W2_NNSoftmax.PNG\n",
      "images/C2_W2_ReLu.png\n",
      "images/C2_W2_smallnetwork.png\n",
      "images/C2_W2_Softmax.png\n",
      "images/C2_W2_SoftMaxCost.png\n",
      "images/C2_W2_SoftMaxNN.png\n",
      "images/C2_W2_SoftmaxReg_NN.png\n",
      "lab_utils_common.py\n",
      "lab_utils_softmax.py\n",
      "logs/\n",
      "logs/train/\n",
      "logs/train/events.out.tfevents.1645828646.ed92f2b0de47.31.186.v2\n",
      "logs/train/events.out.tfevents.1645828646.ed92f2b0de47.profile-empty\n",
      "logs/train/events.out.tfevents.1647805546.30f1e0ee4ffd.31.186.v2\n",
      "logs/train/plugins/\n",
      "logs/train/plugins/profile/\n",
      "logs/train/plugins/profile/2022-02-25_22-37-26/\n",
      "logs/train/plugins/profile/2022-02-25_22-37-26/local.trace\n",
      "logs/train/plugins/profile/2022-03-20_19-45-46/\n",
      "logs/train/plugins/profile/2022-03-20_19-45-46/local.trace\n",
      "public_tests.py\n"
     ]
    }
   ],
   "source": [
    "! rm C2_W2_Assignment.tar ; tar -vcf C2_W2_Assignment.tar *"
   ]
  },
  {
   "cell_type": "code",
   "execution_count": 2,
   "metadata": {},
   "outputs": [
    {
     "data": {
      "text/html": [
       "Click here to download: <a href='./C2_W2_Assignment.tar' target='_blank'>./C2_W2_Assignment.tar</a><br>"
      ],
      "text/plain": [
       "/mnt/c/users/dan/documents/reese school/2023Fall/DATA3461_MachineLearning/DATA3461.Fall.2023/labs/Lab.3/C2_W2_Assignment/C2_W2_Assignment.tar"
      ]
     },
     "metadata": {},
     "output_type": "display_data"
    }
   ],
   "source": [
    "from IPython.display import display, FileLink\n",
    "\n",
    "local_file = FileLink('./C2_W2_Assignment.tar', result_html_prefix=\"Click here to download: \")\n",
    "display(local_file)"
   ]
  },
  {
   "cell_type": "markdown",
   "metadata": {
    "tags": []
   },
   "source": [
    "<a name=\"1\"></a>\n",
    "## 1 - Packages \n",
    "\n",
    "First, let's run the cell below to import all the packages that you will need during this assignment.\n",
    "- [numpy](https://numpy.org/) is the fundamental package for scientific computing with Python.\n",
    "- [matplotlib](http://matplotlib.org) is a popular library to plot graphs in Python.\n",
    "- [tensorflow](https://www.tensorflow.org/) a popular platform for machine learning."
   ]
  },
  {
   "cell_type": "code",
   "execution_count": 5,
   "metadata": {},
   "outputs": [
    {
     "name": "stdout",
     "output_type": "stream",
     "text": [
      "Defaulting to user installation because normal site-packages is not writeable\n",
      "Collecting ipympl\n",
      "  Downloading ipympl-0.9.3-py2.py3-none-any.whl (511 kB)\n",
      "\u001b[2K     \u001b[90m━━━━━━━━━━━━━━━━━━━━━━━━━━━━━━━━━━━━━━━\u001b[0m \u001b[32m511.6/511.6 kB\u001b[0m \u001b[31m2.2 MB/s\u001b[0m eta \u001b[36m0:00:00\u001b[0m00:01\u001b[0m00:01\u001b[0m\n",
      "\u001b[?25hRequirement already satisfied: ipython<9 in /usr/local/lib/python3.10/dist-packages (from ipympl) (8.5.0)\n",
      "Requirement already satisfied: numpy in /home/reese_quinto/.local/lib/python3.10/site-packages (from ipympl) (1.26.2)\n",
      "Requirement already satisfied: ipython-genutils in /usr/lib/python3/dist-packages (from ipympl) (0.2.0)\n",
      "Requirement already satisfied: pillow in /home/reese_quinto/.local/lib/python3.10/site-packages (from ipympl) (9.2.0)\n",
      "Requirement already satisfied: traitlets<6 in /usr/local/lib/python3.10/dist-packages (from ipympl) (5.3.0)\n",
      "Requirement already satisfied: ipywidgets<9,>=7.6.0 in /usr/local/lib/python3.10/dist-packages (from ipympl) (8.0.2)\n",
      "Requirement already satisfied: matplotlib<4,>=3.4.0 in /home/reese_quinto/.local/lib/python3.10/site-packages (from ipympl) (3.7.1)\n",
      "Requirement already satisfied: backcall in /usr/local/lib/python3.10/dist-packages (from ipython<9->ipympl) (0.2.0)\n",
      "Requirement already satisfied: decorator in /usr/local/lib/python3.10/dist-packages (from ipython<9->ipympl) (5.1.1)\n",
      "Requirement already satisfied: jedi>=0.16 in /usr/local/lib/python3.10/dist-packages (from ipython<9->ipympl) (0.18.1)\n",
      "Requirement already satisfied: matplotlib-inline in /usr/local/lib/python3.10/dist-packages (from ipython<9->ipympl) (0.1.6)\n",
      "Requirement already satisfied: pickleshare in /usr/local/lib/python3.10/dist-packages (from ipython<9->ipympl) (0.7.5)\n",
      "Requirement already satisfied: prompt-toolkit<3.1.0,>3.0.1 in /usr/local/lib/python3.10/dist-packages (from ipython<9->ipympl) (3.0.31)\n",
      "Requirement already satisfied: pygments>=2.4.0 in /usr/local/lib/python3.10/dist-packages (from ipython<9->ipympl) (2.13.0)\n",
      "Requirement already satisfied: stack-data in /usr/local/lib/python3.10/dist-packages (from ipython<9->ipympl) (0.5.0)\n",
      "Requirement already satisfied: pexpect>4.3 in /usr/lib/python3/dist-packages (from ipython<9->ipympl) (4.8.0)\n",
      "Requirement already satisfied: ipykernel>=4.5.1 in /usr/local/lib/python3.10/dist-packages (from ipywidgets<9,>=7.6.0->ipympl) (6.15.2)\n",
      "Requirement already satisfied: widgetsnbextension~=4.0 in /usr/local/lib/python3.10/dist-packages (from ipywidgets<9,>=7.6.0->ipympl) (4.0.3)\n",
      "Requirement already satisfied: jupyterlab-widgets~=3.0 in /usr/local/lib/python3.10/dist-packages (from ipywidgets<9,>=7.6.0->ipympl) (3.0.3)\n",
      "Requirement already satisfied: contourpy>=1.0.1 in /home/reese_quinto/.local/lib/python3.10/site-packages (from matplotlib<4,>=3.4.0->ipympl) (1.0.5)\n",
      "Requirement already satisfied: cycler>=0.10 in /home/reese_quinto/.local/lib/python3.10/site-packages (from matplotlib<4,>=3.4.0->ipympl) (0.11.0)\n",
      "Requirement already satisfied: fonttools>=4.22.0 in /home/reese_quinto/.local/lib/python3.10/site-packages (from matplotlib<4,>=3.4.0->ipympl) (4.37.4)\n",
      "Requirement already satisfied: kiwisolver>=1.0.1 in /home/reese_quinto/.local/lib/python3.10/site-packages (from matplotlib<4,>=3.4.0->ipympl) (1.4.4)\n",
      "Requirement already satisfied: packaging>=20.0 in /usr/local/lib/python3.10/dist-packages (from matplotlib<4,>=3.4.0->ipympl) (21.3)\n",
      "Requirement already satisfied: pyparsing>=2.3.1 in /usr/lib/python3/dist-packages (from matplotlib<4,>=3.4.0->ipympl) (2.4.7)\n",
      "Requirement already satisfied: python-dateutil>=2.7 in /usr/local/lib/python3.10/dist-packages (from matplotlib<4,>=3.4.0->ipympl) (2.8.2)\n",
      "Requirement already satisfied: debugpy>=1.0 in /usr/local/lib/python3.10/dist-packages (from ipykernel>=4.5.1->ipywidgets<9,>=7.6.0->ipympl) (1.6.3)\n",
      "Requirement already satisfied: jupyter-client>=6.1.12 in /usr/local/lib/python3.10/dist-packages (from ipykernel>=4.5.1->ipywidgets<9,>=7.6.0->ipympl) (7.3.5)\n",
      "Requirement already satisfied: nest-asyncio in /usr/local/lib/python3.10/dist-packages (from ipykernel>=4.5.1->ipywidgets<9,>=7.6.0->ipympl) (1.5.5)\n",
      "Requirement already satisfied: psutil in /usr/local/lib/python3.10/dist-packages (from ipykernel>=4.5.1->ipywidgets<9,>=7.6.0->ipympl) (5.9.2)\n",
      "Requirement already satisfied: pyzmq>=17 in /usr/local/lib/python3.10/dist-packages (from ipykernel>=4.5.1->ipywidgets<9,>=7.6.0->ipympl) (23.2.1)\n",
      "Requirement already satisfied: tornado>=6.1 in /usr/local/lib/python3.10/dist-packages (from ipykernel>=4.5.1->ipywidgets<9,>=7.6.0->ipympl) (6.2)\n",
      "Requirement already satisfied: parso<0.9.0,>=0.8.0 in /usr/local/lib/python3.10/dist-packages (from jedi>=0.16->ipython<9->ipympl) (0.8.3)\n",
      "Requirement already satisfied: wcwidth in /usr/local/lib/python3.10/dist-packages (from prompt-toolkit<3.1.0,>3.0.1->ipython<9->ipympl) (0.2.5)\n",
      "Requirement already satisfied: six>=1.5 in /usr/lib/python3/dist-packages (from python-dateutil>=2.7->matplotlib<4,>=3.4.0->ipympl) (1.16.0)\n",
      "Requirement already satisfied: executing in /usr/local/lib/python3.10/dist-packages (from stack-data->ipython<9->ipympl) (1.0.0)\n",
      "Requirement already satisfied: asttokens in /usr/local/lib/python3.10/dist-packages (from stack-data->ipython<9->ipympl) (2.0.8)\n",
      "Requirement already satisfied: pure-eval in /usr/local/lib/python3.10/dist-packages (from stack-data->ipython<9->ipympl) (0.2.2)\n",
      "Requirement already satisfied: entrypoints in /usr/local/lib/python3.10/dist-packages (from jupyter-client>=6.1.12->ipykernel>=4.5.1->ipywidgets<9,>=7.6.0->ipympl) (0.4)\n",
      "Requirement already satisfied: jupyter-core>=4.9.2 in /usr/local/lib/python3.10/dist-packages (from jupyter-client>=6.1.12->ipykernel>=4.5.1->ipywidgets<9,>=7.6.0->ipympl) (4.11.1)\n",
      "\u001b[33mDEPRECATION: distro-info 1.1build1 has a non-standard version number. pip 24.0 will enforce this behaviour change. A possible replacement is to upgrade to a newer version of distro-info or contact the author to suggest that they release a version with a conforming version number. Discussion can be found at https://github.com/pypa/pip/issues/12063\u001b[0m\u001b[33m\n",
      "\u001b[0m\u001b[33mDEPRECATION: python-debian 0.1.43ubuntu1 has a non-standard version number. pip 24.0 will enforce this behaviour change. A possible replacement is to upgrade to a newer version of python-debian or contact the author to suggest that they release a version with a conforming version number. Discussion can be found at https://github.com/pypa/pip/issues/12063\u001b[0m\u001b[33m\n",
      "\u001b[0mInstalling collected packages: ipympl\n",
      "Successfully installed ipympl-0.9.3\n"
     ]
    }
   ],
   "source": [
    "!pip install ipympl"
   ]
  },
  {
   "cell_type": "code",
   "execution_count": 6,
   "metadata": {},
   "outputs": [],
   "source": [
    "import numpy as np\n",
    "import tensorflow as tf\n",
    "from tensorflow.keras.models import Sequential\n",
    "from tensorflow.keras.layers import Dense\n",
    "from tensorflow.keras.activations import linear, relu, sigmoid\n",
    "%matplotlib widget\n",
    "import matplotlib.pyplot as plt\n",
    "plt.style.use('./deeplearning.mplstyle')\n",
    "\n",
    "import logging\n",
    "logging.getLogger(\"tensorflow\").setLevel(logging.ERROR)\n",
    "tf.autograph.set_verbosity(0)\n",
    "\n",
    "from public_tests import * \n",
    "\n",
    "from autils import *\n",
    "from lab_utils_softmax import plt_softmax\n",
    "np.set_printoptions(precision=2)"
   ]
  },
  {
   "cell_type": "markdown",
   "metadata": {},
   "source": [
    "<a name=\"2\"></a>\n",
    "## 2 - ReLU Activation\n",
    "This week, a new activation was introduced, the Rectified Linear Unit (ReLU). \n",
    "$$ a = max(0,z) \\quad\\quad\\text {# ReLU function} $$"
   ]
  },
  {
   "cell_type": "code",
   "execution_count": 7,
   "metadata": {},
   "outputs": [
    {
     "data": {
      "application/vnd.jupyter.widget-view+json": {
       "model_id": "f33c1b8fb9b84783884cb4ddd6de38e0",
       "version_major": 2,
       "version_minor": 0
      },
      "image/png": "[encoded data removed]",
      "text/html": [
       "\n",
       "            <div style=\"display: inline-block;\">\n",
       "                <div class=\"jupyter-widgets widget-label\" style=\"text-align: center;\">\n",
       "                    Figure\n",
       "                </div>\n",
       "                <img src='data:image/png;base64,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' width=600.0/>\n",
       "            </div>\n",
       "        "
      ],
      "text/plain": [
       "Canvas(footer_visible=False, header_visible=False, toolbar=Toolbar(toolitems=[('Home', 'Reset original view', …"
      ]
     },
     "metadata": {},
     "output_type": "display_data"
    }
   ],
   "source": [
    "plt_act_trio()"
   ]
  },
  {
   "cell_type": "markdown",
   "metadata": {},
   "source": [
    "<img align=\"right\" src=\"./images/C2_W2_ReLu.png\"     style=\" width:380px; padding: 10px 20px; \" >\n",
    "The example from the lecture on the right shows an application of the ReLU. In this example, the derived \"awareness\" feature is not binary but has a continuous range of values. The sigmoid is best for on/off or binary situations. The ReLU provides a continuous linear relationship. Additionally it has an 'off' range where the output is zero.     \n",
    "The \"off\" feature makes the ReLU a Non-Linear activation. Why is this needed? This enables multiple units to contribute to to the resulting function without interfering. This is examined more in the supporting optional lab. "
   ]
  },
  {
   "cell_type": "markdown",
   "metadata": {
    "tags": []
   },
   "source": [
    "<a name=\"3\"></a>\n",
    "## 3 - Softmax Function\n",
    "A multiclass neural network generates N outputs. One output is selected as the predicted answer. In the output layer, a vector $\\mathbf{z}$ is generated by a linear function which is fed into a softmax function. The softmax function converts $\\mathbf{z}$  into a probability distribution as described below. After applying softmax, each output will be between 0 and 1 and the outputs will sum to 1. They can be interpreted as probabilities. The larger inputs to the softmax will correspond to larger output probabilities.\n",
    "<center>  <img  src=\"./images/C2_W2_NNSoftmax.PNG\" width=\"600\" />  "
   ]
  },
  {
   "cell_type": "markdown",
   "metadata": {},
   "source": [
    "The softmax function can be written:\n",
    "$$a_j = \\frac{e^{z_j}}{ \\sum_{k=0}^{N-1}{e^{z_k} }} \\tag{1}$$\n",
    "\n",
    "Where $z = \\mathbf{w} \\cdot \\mathbf{x} + b$ and N is the number of feature/categories in the output layer.  "
   ]
  },
  {
   "cell_type": "markdown",
   "metadata": {},
   "source": [
    "<a name=\"ex01\"></a>\n",
    "### Exercise 1\n",
    "Let's create a NumPy implementation:"
   ]
  },
  {
   "cell_type": "code",
   "execution_count": null,
   "metadata": {},
   "outputs": [],
   "source": [
    "# UNQ_C1\n",
    "# GRADED CELL: my_softmax\n",
    "\n",
    "def my_softmax(z):  \n",
    "    \"\"\" Softmax converts a vector of values to a probability distribution.\n",
    "    Args:\n",
    "      z (ndarray (N,))  : input data, N features\n",
    "    Returns:\n",
    "      a (ndarray (N,))  : softmax of z\n",
    "    \"\"\"    \n",
    "    ### START CODE HERE ### \n",
    "\n",
    "    ### END CODE HERE ### \n",
    "    return a"
   ]
  },
  {
   "cell_type": "code",
   "execution_count": null,
   "metadata": {},
   "outputs": [],
   "source": [
    "z = np.array([1., 2., 3., 4.])\n",
    "a = my_softmax(z)\n",
    "atf = tf.nn.softmax(z)\n",
    "print(f\"my_softmax(z):         {a}\")\n",
    "print(f\"tensorflow softmax(z): {atf}\")\n",
    "\n",
    "# BEGIN UNIT TEST  \n",
    "test_my_softmax(my_softmax)\n",
    "# END UNIT TEST  "
   ]
  },
  {
   "cell_type": "markdown",
   "metadata": {},
   "source": [
    "<details>\n",
    "  <summary><font size=\"3\" color=\"darkgreen\"><b>Click for hints</b></font></summary>\n",
    "    One implementation uses for loop to first build the denominator and then a second loop to calculate each output.\n",
    "    \n",
    "```python\n",
    "def my_softmax(z):  \n",
    "    N = len(z)\n",
    "    a =                     # initialize a to zeros \n",
    "    ez_sum =                # initialize sum to zero\n",
    "    for k in range(N):      # loop over number of outputs             \n",
    "        ez_sum +=           # sum exp(z[k]) to build the shared denominator      \n",
    "    for j in range(N):      # loop over number of outputs again                \n",
    "        a[j] =              # divide each the exp of each output by the denominator   \n",
    "    return(a)\n",
    "```\n",
    "<details>\n",
    "  <summary><font size=\"3\" color=\"darkgreen\"><b>Click for code</b></font></summary>\n",
    "   \n",
    "```python\n",
    "def my_softmax(z):  \n",
    "    N = len(z)\n",
    "    a = np.zeros(N)\n",
    "    ez_sum = 0\n",
    "    for k in range(N):                \n",
    "        ez_sum += np.exp(z[k])       \n",
    "    for j in range(N):                \n",
    "        a[j] = np.exp(z[j])/ez_sum   \n",
    "    return(a)\n",
    "\n",
    "Or, a vector implementation:\n",
    "\n",
    "def my_softmax(z):  \n",
    "    ez = np.exp(z)              \n",
    "    a = ez/np.sum(ez)           \n",
    "    return(a)\n",
    "\n",
    "```\n"
   ]
  },
  {
   "cell_type": "markdown",
   "metadata": {},
   "source": [
    "Below, vary the values of the `z` inputs. Note in particular how the exponential in the numerator magnifies small differences in the values. Note as well that the output values sum to one."
   ]
  },
  {
   "cell_type": "code",
   "execution_count": null,
   "metadata": {},
   "outputs": [],
   "source": [
    "plt.close(\"all\")\n",
    "plt_softmax(my_softmax)"
   ]
  },
  {
   "cell_type": "markdown",
   "metadata": {
    "tags": []
   },
   "source": [
    "<a name=\"4\"></a>\n",
    "## 4 - Neural Networks\n",
    "\n",
    "In last weeks assignment, you implemented a neural network to do binary classification. This week you will extend that to multiclass classification. This will utilize the softmax activation.\n",
    "\n",
    "\n",
    "<a name=\"4.1\"></a>\n",
    "### 4.1 Problem Statement\n",
    "\n",
    "In this exercise, you will use a neural network to recognize ten handwritten digits, 0-9. This is a multiclass classification task where one of n choices is selected. Automated handwritten digit recognition is widely used today - from recognizing zip codes (postal codes) on mail envelopes to recognizing amounts written on bank checks. \n",
    "\n",
    "\n",
    "<a name=\"4.2\"></a>\n",
    "### 4.2 Dataset\n",
    "\n",
    "You will start by loading the dataset for this task. \n",
    "- The `load_data()` function shown below loads the data into variables `X` and `y`\n",
    "\n",
    "\n",
    "- The data set contains 5000 training examples of handwritten digits $^1$.  \n",
    "\n",
    "    - Each training example is a 20-pixel x 20-pixel grayscale image of the digit. \n",
    "        - Each pixel is represented by a floating-point number indicating the grayscale intensity at that location. \n",
    "        - The 20 by 20 grid of pixels is “unrolled” into a 400-dimensional vector. \n",
    "        - Each training examples becomes a single row in our data matrix `X`. \n",
    "        - This gives us a 5000 x 400 matrix `X` where every row is a training example of a handwritten digit image.\n",
    "\n",
    "$$X = \n",
    "\\left(\\begin{array}{cc} \n",
    "--- (x^{(1)}) --- \\\\\n",
    "--- (x^{(2)}) --- \\\\\n",
    "\\vdots \\\\ \n",
    "--- (x^{(m)}) --- \n",
    "\\end{array}\\right)$$ \n",
    "\n",
    "- The second part of the training set is a 5000 x 1 dimensional vector `y` that contains labels for the training set\n",
    "    - `y = 0` if the image is of the digit `0`, `y = 4` if the image is of the digit `4` and so on.\n",
    "\n",
    "$^1$<sub> This is a subset of the MNIST handwritten digit dataset (http://yann.lecun.com/exdb/mnist/)</sub>"
   ]
  },
  {
   "cell_type": "code",
   "execution_count": null,
   "metadata": {},
   "outputs": [],
   "source": [
    "# load dataset\n",
    "X, y = load_data()"
   ]
  },
  {
   "cell_type": "markdown",
   "metadata": {},
   "source": [
    "#### 4.2.1 View the variables\n",
    "Let's get more familiar with your dataset.  \n",
    "- A good place to start is to print out each variable and see what it contains.\n",
    "\n",
    "The code below prints the first element in the variables `X` and `y`.  "
   ]
  },
  {
   "cell_type": "code",
   "execution_count": null,
   "metadata": {
    "scrolled": true
   },
   "outputs": [],
   "source": [
    "print ('The first element of X is: ', X[0])"
   ]
  },
  {
   "cell_type": "code",
   "execution_count": null,
   "metadata": {},
   "outputs": [],
   "source": [
    "print ('The first element of y is: ', y[0,0])\n",
    "print ('The last element of y is: ', y[-1,0])"
   ]
  },
  {
   "cell_type": "markdown",
   "metadata": {},
   "source": [
    "#### 4.2.2 Check the dimensions of your variables\n",
    "\n",
    "Another way to get familiar with your data is to view its dimensions. Please print the shape of `X` and `y` and see how many training examples you have in your dataset."
   ]
  },
  {
   "cell_type": "code",
   "execution_count": null,
   "metadata": {},
   "outputs": [],
   "source": [
    "print ('The shape of X is: ' + str(X.shape))\n",
    "print ('The shape of y is: ' + str(y.shape))"
   ]
  },
  {
   "cell_type": "markdown",
   "metadata": {},
   "source": [
    "#### 4.2.3 Visualizing the Data\n",
    "\n",
    "You will begin by visualizing a subset of the training set. \n",
    "- In the cell below, the code randomly selects 64 rows from `X`, maps each row back to a 20 pixel by 20 pixel grayscale image and displays the images together. \n",
    "- The label for each image is displayed above the image "
   ]
  },
  {
   "cell_type": "code",
   "execution_count": null,
   "metadata": {},
   "outputs": [],
   "source": [
    "import warnings\n",
    "warnings.simplefilter(action='ignore', category=FutureWarning)\n",
    "# You do not need to modify anything in this cell\n",
    "\n",
    "m, n = X.shape\n",
    "\n",
    "fig, axes = plt.subplots(8,8, figsize=(5,5))\n",
    "fig.tight_layout(pad=0.13,rect=[0, 0.03, 1, 0.91]) #[left, bottom, right, top]\n",
    "\n",
    "#fig.tight_layout(pad=0.5)\n",
    "widgvis(fig)\n",
    "for i,ax in enumerate(axes.flat):\n",
    "    # Select random indices\n",
    "    random_index = np.random.randint(m)\n",
    "    \n",
    "    # Select rows corresponding to the random indices and\n",
    "    # reshape the image\n",
    "    X_random_reshaped = X[random_index].reshape((20,20)).T\n",
    "    \n",
    "    # Display the image\n",
    "    ax.imshow(X_random_reshaped, cmap='gray')\n",
    "    \n",
    "    # Display the label above the image\n",
    "    ax.set_title(y[random_index,0])\n",
    "    ax.set_axis_off()\n",
    "    fig.suptitle(\"Label, image\", fontsize=14)"
   ]
  },
  {
   "cell_type": "markdown",
   "metadata": {},
   "source": [
    "<a name=\"4.3\"></a>\n",
    "### 4.3 Model representation\n",
    "\n",
    "The neural network you will use in this assignment is shown in the figure below. \n",
    "- This has two dense layers with ReLU activations followed by an output layer with a linear activation. \n",
    "    - Recall that our inputs are pixel values of digit images.\n",
    "    - Since the images are of size $20\\times20$, this gives us $400$ inputs  \n",
    "    \n",
    "<img src=\"images/C2_W2_Assigment_NN.png\" width=\"600\" height=\"450\">"
   ]
  },
  {
   "cell_type": "markdown",
   "metadata": {},
   "source": [
    "- The parameters have dimensions that are sized for a neural network with $25$ units in layer 1, $15$ units in layer 2 and $10$ output units in layer 3, one for each digit.\n",
    "\n",
    "    - Recall that the dimensions of these parameters is determined as follows:\n",
    "        - If network has $s_{in}$ units in a layer and $s_{out}$ units in the next layer, then \n",
    "            - $W$ will be of dimension $s_{in} \\times s_{out}$.\n",
    "            - $b$ will be a vector with $s_{out}$ elements\n",
    "  \n",
    "    - Therefore, the shapes of `W`, and `b`,  are \n",
    "        - layer1: The shape of `W1` is (400, 25) and the shape of `b1` is (25,)\n",
    "        - layer2: The shape of `W2` is (25, 15) and the shape of `b2` is: (15,)\n",
    "        - layer3: The shape of `W3` is (15, 10) and the shape of `b3` is: (10,)\n",
    ">**Note:** The bias vector `b` could be represented as a 1-D (n,) or 2-D (n,1) array. Tensorflow utilizes a 1-D representation and this lab will maintain that convention: \n",
    "               "
   ]
  },
  {
   "cell_type": "markdown",
   "metadata": {},
   "source": [
    "<a name=\"4.4\"></a>\n",
    "### 4.4 Tensorflow Model Implementation\n"
   ]
  },
  {
   "cell_type": "markdown",
   "metadata": {},
   "source": [
    "Tensorflow models are built layer by layer. A layer's input dimensions ($s_{in}$ above) are calculated for you. You specify a layer's *output dimensions* and this determines the next layer's input dimension. The input dimension of the first layer is derived from the size of the input data specified in the `model.fit` statement below. \n",
    ">**Note:** It is also possible to add an input layer that specifies the input dimension of the first layer. For example:  \n",
    "`tf.keras.Input(shape=(400,)),    #specify input shape`  \n",
    "We will include that here to illuminate some model sizing."
   ]
  },
  {
   "cell_type": "markdown",
   "metadata": {},
   "source": [
    "<a name=\"4.5\"></a>\n",
    "### 4.5 Softmax placement\n",
    "As described in the lecture and the optional softmax lab, numerical stability is improved if the softmax is grouped with the loss function rather than the output layer during training. This has implications when *building* the model and *using* the model.  \n",
    "Building:  \n",
    "* The final Dense layer should use a 'linear' activation. This is effectively no activation. \n",
    "* The `model.compile` statement will indicate this by including `from_logits=True`.\n",
    "`loss=tf.keras.losses.SparseCategoricalCrossentropy(from_logits=True) `  \n",
    "* This does not impact the form of the target. In the case of SparseCategorialCrossentropy, the target is the expected digit, 0-9.\n",
    "\n",
    "Using the model:\n",
    "* The outputs are not probabilities. If output probabilities are desired, apply a softmax function."
   ]
  },
  {
   "cell_type": "markdown",
   "metadata": {},
   "source": [
    "<a name=\"ex02\"></a>\n",
    "### Exercise 2\n",
    "\n",
    "Below, using Keras [Sequential model](https://keras.io/guides/sequential_model/) and [Dense Layer](https://keras.io/api/layers/core_layers/dense/) with a ReLU activation to construct the three layer network described above."
   ]
  },
  {
   "cell_type": "code",
   "execution_count": null,
   "metadata": {},
   "outputs": [],
   "source": [
    "# UNQ_C2\n",
    "# GRADED CELL: Sequential model\n",
    "tf.random.set_seed(1234) # for consistent results\n",
    "model = Sequential(\n",
    "    [               \n",
    "        ### START CODE HERE ### \n",
    "\n",
    "        ### END CODE HERE ### \n",
    "    ], name = \"my_model\" \n",
    ")"
   ]
  },
  {
   "cell_type": "code",
   "execution_count": null,
   "metadata": {},
   "outputs": [],
   "source": [
    "model.summary()"
   ]
  },
  {
   "cell_type": "markdown",
   "metadata": {},
   "source": [
    "<details>\n",
    "  <summary><font size=\"3\" color=\"darkgreen\"><b>Expected Output (Click to expand)</b></font></summary>\n",
    "The `model.summary()` function displays a useful summary of the model. Note, the names of the layers may vary as they are auto-generated unless the name is specified.    \n",
    "    \n",
    "```\n",
    "Model: \"my_model\"\n",
    "_________________________________________________________________\n",
    "Layer (type)                 Output Shape              Param #   \n",
    "=================================================================\n",
    "L1 (Dense)                   (None, 25)                10025     \n",
    "_________________________________________________________________\n",
    "L2 (Dense)                   (None, 15)                390       \n",
    "_________________________________________________________________\n",
    "L3 (Dense)                   (None, 10)                160       \n",
    "=================================================================\n",
    "Total params: 10,575\n",
    "Trainable params: 10,575\n",
    "Non-trainable params: 0\n",
    "_________________________________________________________________\n",
    "```"
   ]
  },
  {
   "cell_type": "markdown",
   "metadata": {},
   "source": [
    "<details>\n",
    "  <summary><font size=\"3\" color=\"darkgreen\"><b>Click for hints</b></font></summary>\n",
    "    \n",
    "```python\n",
    "tf.random.set_seed(1234)\n",
    "model = Sequential(\n",
    "    [               \n",
    "        ### START CODE HERE ### \n",
    "        tf.keras.Input(shape=(400,)),     # @REPLACE \n",
    "        Dense(25, activation='relu', name = \"L1\"), # @REPLACE \n",
    "        Dense(15, activation='relu',  name = \"L2\"), # @REPLACE  \n",
    "        Dense(10, activation='linear', name = \"L3\"),  # @REPLACE \n",
    "        ### END CODE HERE ### \n",
    "    ], name = \"my_model\" \n",
    ")\n",
    "``` "
   ]
  },
  {
   "cell_type": "code",
   "execution_count": null,
   "metadata": {},
   "outputs": [],
   "source": [
    "# BEGIN UNIT TEST     \n",
    "test_model(model, 10, 400)\n",
    "# END UNIT TEST     "
   ]
  },
  {
   "cell_type": "markdown",
   "metadata": {},
   "source": [
    "The parameter counts shown in the summary correspond to the number of elements in the weight and bias arrays as shown below."
   ]
  },
  {
   "cell_type": "markdown",
   "metadata": {},
   "source": [
    "Let's further examine the weights to verify that tensorflow produced the same dimensions as we calculated above."
   ]
  },
  {
   "cell_type": "code",
   "execution_count": null,
   "metadata": {},
   "outputs": [],
   "source": [
    "[layer1, layer2, layer3] = model.layers"
   ]
  },
  {
   "cell_type": "code",
   "execution_count": null,
   "metadata": {},
   "outputs": [],
   "source": [
    "#### Examine Weights shapes\n",
    "W1,b1 = layer1.get_weights()\n",
    "W2,b2 = layer2.get_weights()\n",
    "W3,b3 = layer3.get_weights()\n",
    "print(f\"W1 shape = {W1.shape}, b1 shape = {b1.shape}\")\n",
    "print(f\"W2 shape = {W2.shape}, b2 shape = {b2.shape}\")\n",
    "print(f\"W3 shape = {W3.shape}, b3 shape = {b3.shape}\")"
   ]
  },
  {
   "cell_type": "markdown",
   "metadata": {},
   "source": [
    "**Expected Output**\n",
    "```\n",
    "W1 shape = (400, 25), b1 shape = (25,)  \n",
    "W2 shape = (25, 15), b2 shape = (15,)  \n",
    "W3 shape = (15, 10), b3 shape = (10,)\n",
    "```"
   ]
  },
  {
   "cell_type": "markdown",
   "metadata": {},
   "source": [
    "The following code:\n",
    "* defines a loss function, `SparseCategoricalCrossentropy` and indicates the softmax should be included with the  loss calculation by adding `from_logits=True`)\n",
    "* defines an optimizer. A popular choice is Adaptive Moment (Adam) which was described in lecture."
   ]
  },
  {
   "cell_type": "code",
   "execution_count": null,
   "metadata": {
    "scrolled": true
   },
   "outputs": [],
   "source": [
    "model.compile(\n",
    "    loss=tf.keras.losses.SparseCategoricalCrossentropy(from_logits=True),\n",
    "    optimizer=tf.keras.optimizers.Adam(learning_rate=0.001),\n",
    ")\n",
    "\n",
    "history = model.fit(\n",
    "    X,y,\n",
    "    epochs=40\n",
    ")"
   ]
  },
  {
   "cell_type": "markdown",
   "metadata": {},
   "source": [
    "#### Epochs and batches\n",
    "In the `compile` statement above, the number of `epochs` was set to 100. This specifies that the entire data set should be applied during training 100 times.  During training, you see output describing the progress of training that looks like this:\n",
    "```\n",
    "Epoch 1/100\n",
    "157/157 [==============================] - 0s 1ms/step - loss: 2.2770\n",
    "```\n",
    "The first line, `Epoch 1/100`, describes which epoch the model is currently running. For efficiency, the training data set is broken into 'batches'. The default size of a batch in Tensorflow is 32. There are 5000 examples in our data set or roughly 157 batches. The notation on the 2nd line `157/157 [====` is describing which batch has been executed."
   ]
  },
  {
   "cell_type": "markdown",
   "metadata": {},
   "source": [
    "#### Loss  (cost)\n",
    "In course 1, we learned to track the progress of gradient descent by monitoring the cost. Ideally, the cost will decrease as the number of iterations of the algorithm increases. Tensorflow refers to the cost as `loss`. Above, you saw the loss displayed each epoch as `model.fit` was executing. The [.fit](https://www.tensorflow.org/api_docs/python/tf/keras/Model) method returns a variety of metrics including the loss. This is captured in the `history` variable above. This can be used to examine the loss in a plot as shown below."
   ]
  },
  {
   "cell_type": "code",
   "execution_count": null,
   "metadata": {},
   "outputs": [],
   "source": [
    "plot_loss_tf(history)"
   ]
  },
  {
   "cell_type": "markdown",
   "metadata": {},
   "source": [
    "#### Prediction \n",
    "To make a prediction, use Keras `predict`. Below, X[1015] contains an image of a two."
   ]
  },
  {
   "cell_type": "code",
   "execution_count": null,
   "metadata": {},
   "outputs": [],
   "source": [
    "image_of_two = X[1015]\n",
    "display_digit(image_of_two)\n",
    "\n",
    "prediction = model.predict(image_of_two.reshape(1,400))  # prediction\n",
    "\n",
    "print(f\" predicting a Two: \\n{prediction}\")\n",
    "print(f\" Largest Prediction index: {np.argmax(prediction)}\")"
   ]
  },
  {
   "cell_type": "markdown",
   "metadata": {},
   "source": [
    "The largest output is prediction[2], indicating the predicted digit is a '2'. If the problem only requires a selection, that is sufficient. Use NumPy [argmax](https://numpy.org/doc/stable/reference/generated/numpy.argmax.html) to select it. If the problem requires a probability, a softmax is required:"
   ]
  },
  {
   "cell_type": "code",
   "execution_count": null,
   "metadata": {},
   "outputs": [],
   "source": [
    "prediction_p = tf.nn.softmax(prediction)\n",
    "\n",
    "print(f\" predicting a Two. Probability vector: \\n{prediction_p}\")\n",
    "print(f\"Total of predictions: {np.sum(prediction_p):0.3f}\")"
   ]
  },
  {
   "cell_type": "markdown",
   "metadata": {},
   "source": [
    "To return an integer representing the predicted target, you want the index of the largest probability. This is accomplished with the Numpy [argmax](https://numpy.org/doc/stable/reference/generated/numpy.argmax.html) function."
   ]
  },
  {
   "cell_type": "code",
   "execution_count": null,
   "metadata": {},
   "outputs": [],
   "source": [
    "yhat = np.argmax(prediction_p)\n",
    "\n",
    "print(f\"np.argmax(prediction_p): {yhat}\")"
   ]
  },
  {
   "cell_type": "markdown",
   "metadata": {},
   "source": [
    "Let's compare the predictions vs the labels for a random sample of 64 digits. This takes a moment to run."
   ]
  },
  {
   "cell_type": "code",
   "execution_count": null,
   "metadata": {},
   "outputs": [],
   "source": [
    "import warnings\n",
    "warnings.simplefilter(action='ignore', category=FutureWarning)\n",
    "# You do not need to modify anything in this cell\n",
    "\n",
    "m, n = X.shape\n",
    "\n",
    "fig, axes = plt.subplots(8,8, figsize=(5,5))\n",
    "fig.tight_layout(pad=0.13,rect=[0, 0.03, 1, 0.91]) #[left, bottom, right, top]\n",
    "widgvis(fig)\n",
    "for i,ax in enumerate(axes.flat):\n",
    "    # Select random indices\n",
    "    random_index = np.random.randint(m)\n",
    "    \n",
    "    # Select rows corresponding to the random indices and\n",
    "    # reshape the image\n",
    "    X_random_reshaped = X[random_index].reshape((20,20)).T\n",
    "    \n",
    "    # Display the image\n",
    "    ax.imshow(X_random_reshaped, cmap='gray')\n",
    "    \n",
    "    # Predict using the Neural Network\n",
    "    prediction = model.predict(X[random_index].reshape(1,400))\n",
    "    prediction_p = tf.nn.softmax(prediction)\n",
    "    yhat = np.argmax(prediction_p)\n",
    "    \n",
    "    # Display the label above the image\n",
    "    ax.set_title(f\"{y[random_index,0]},{yhat}\",fontsize=10)\n",
    "    ax.set_axis_off()\n",
    "fig.suptitle(\"Label, yhat\", fontsize=14)\n",
    "plt.show()"
   ]
  },
  {
   "cell_type": "markdown",
   "metadata": {},
   "source": [
    "Let's look at some of the errors. \n",
    ">Note: increasing the number of training epochs can eliminate the errors on this data set."
   ]
  },
  {
   "cell_type": "code",
   "execution_count": null,
   "metadata": {},
   "outputs": [],
   "source": [
    "print( f\"{display_errors(model,X,y)} errors out of {len(X)} images\")"
   ]
  },
  {
   "cell_type": "markdown",
   "metadata": {},
   "source": [
    "### Congratulations!\n",
    "You have successfully built and utilized a neural network to do multiclass classification."
   ]
  },
  {
   "cell_type": "code",
   "execution_count": null,
   "metadata": {},
   "outputs": [],
   "source": []
  }
 ],
 "metadata": {
  "dl_toc_settings": {
   "rndtag": "89367"
  },
  "kernelspec": {
   "display_name": "Python 3 (ipykernel)",
   "language": "python",
   "name": "python3"
  },
  "language_info": {
   "codemirror_mode": {
    "name": "ipython",
    "version": 3
   },
   "file_extension": ".py",
   "mimetype": "text/x-python",
   "name": "python",
   "nbconvert_exporter": "python",
   "pygments_lexer": "ipython3",
   "version": "3.10.4"
  }
 },
 "nbformat": 4,
 "nbformat_minor": 4
}
